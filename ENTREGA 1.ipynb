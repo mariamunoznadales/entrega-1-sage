{
 "cells": [
  {
   "cell_type": "code",
   "execution_count": 2,
   "metadata": {
    "collapsed": false
   },
   "outputs": [
    {
     "data": {
      "text/plain": [
       "0.875000000000000"
      ]
     },
     "execution_count": 2,
     "metadata": {
     },
     "output_type": "execute_result"
    }
   ],
   "source": [
    "# Define la expresión\n",
    "expresion = 28 / 2^5\n",
    "\n",
    "# Muestra la expresión\n",
    "expresion\n",
    "\n",
    "# Aproximación decimal\n",
    "aproximacion_decimal = expresion.n()\n",
    "aproximacion_decimal\n"
   ]
  },
  {
   "cell_type": "code",
   "execution_count": 3,
   "metadata": {
    "collapsed": false
   },
   "outputs": [
    {
     "data": {
      "text/plain": [
       "1.41421356237310"
      ]
     },
     "execution_count": 3,
     "metadata": {
     },
     "output_type": "execute_result"
    }
   ],
   "source": [
    "# Calcula la raíz cuadrada de 2\n",
    "raiz_cuadrada_de_2 = sqrt(2)\n",
    "\n",
    "# Muestra la raíz cuadrada de 2\n",
    "raiz_cuadrada_de_2\n",
    "\n",
    "# Aproximación decimal de la raíz cuadrada de 2\n",
    "aproximacion_decimal = raiz_cuadrada_de_2.n()\n",
    "aproximacion_decimal\n"
   ]
  },
  {
   "cell_type": "code",
   "execution_count": 5,
   "metadata": {
    "collapsed": false
   },
   "outputs": [
    {
     "data": {
      "text/plain": [
       "3*I"
      ]
     },
     "execution_count": 5,
     "metadata": {
     },
     "output_type": "execute_result"
    }
   ],
   "source": [
    "# Calcula la raíz cuadrada de -9\n",
    "raiz_cuadrada_de_menos_9 = sqrt(-9)\n",
    "\n",
    "# Muestra la raíz cuadrada de -9\n",
    "raiz_cuadrada_de_menos_9\n",
    "\n"
   ]
  },
  {
   "cell_type": "code",
   "execution_count": 6,
   "metadata": {
    "collapsed": false
   },
   "outputs": [
    {
     "data": {
      "text/plain": [
       "51"
      ]
     },
     "execution_count": 6,
     "metadata": {
     },
     "output_type": "execute_result"
    }
   ],
   "source": [
    "# Define el número\n",
    "numero = 2153693963075557766310747\n",
    "\n",
    "# Calcula el logaritmo en base 3\n",
    "logaritmo = log(numero, base=3)\n",
    "\n",
    "# Muestra el resultado\n",
    "logaritmo\n"
   ]
  },
  {
   "cell_type": "code",
   "execution_count": 10,
   "metadata": {
    "collapsed": false
   },
   "outputs": [
    {
     "data": {
      "text/plain": [
       "2.7182818284590452353602874713526624977572470937000"
      ]
     },
     "execution_count": 10,
     "metadata": {
     },
     "output_type": "execute_result"
    }
   ],
   "source": [
    "\n",
    "# Aproximación decimal de e con 50 cifras\n",
    "aprox_e = exp(1).n(digits=50)\n",
    "aprox_e\n",
    "\n"
   ]
  },
  {
   "cell_type": "code",
   "execution_count": 12,
   "metadata": {
    "collapsed": false
   },
   "outputs": [
    {
     "data": {
      "text/plain": [
       "3.1415926535897932384626433832795028841971693993751058209749445923078164062862090"
      ]
     },
     "execution_count": 12,
     "metadata": {
     },
     "output_type": "execute_result"
    }
   ],
   "source": [
    "# Aproximación decimal de pi con 80 cifras\n",
    "aprox_pi = N(pi, digits=80)\n",
    "aprox_pi\n"
   ]
  },
  {
   "cell_type": "code",
   "execution_count": 13,
   "metadata": {
    "collapsed": false
   },
   "outputs": [
    {
     "data": {
      "text/plain": [
       "(9, 74)"
      ]
     },
     "execution_count": 13,
     "metadata": {
     },
     "output_type": "execute_result"
    }
   ],
   "source": [
    "# Cociente y resto de la división\n",
    "cociente, resto = divmod(956, 98)\n",
    "cociente, resto\n"
   ]
  },
  {
   "cell_type": "code",
   "execution_count": 16,
   "metadata": {
    "collapsed": false
   },
   "outputs": [
    {
     "data": {
      "text/plain": [
       "True"
      ]
     },
     "execution_count": 16,
     "metadata": {
     },
     "output_type": "execute_result"
    }
   ],
   "source": [
    "# Cociente y resto obtenidos previamente\n",
    "cociente = 956 // 98\n",
    "resto = 956 % 98\n",
    "\n",
    "# Verificación de la prueba de Euclides\n",
    "verificacion_euclides = 98 * cociente + resto == 956\n",
    "verificacion_euclides\n",
    "\n"
   ]
  },
  {
   "cell_type": "code",
   "execution_count": 17,
   "metadata": {
    "collapsed": false
   },
   "outputs": [
    {
     "data": {
      "text/plain": [
       "False"
      ]
     },
     "execution_count": 17,
     "metadata": {
     },
     "output_type": "execute_result"
    }
   ],
   "source": [
    "# Verifica si 3 divide a 234878\n",
    "divide_tres = (234878 % 3 == 0)\n",
    "divide_tres\n"
   ]
  },
  {
   "cell_type": "code",
   "execution_count": 18,
   "metadata": {
    "collapsed": false
   },
   "outputs": [
    {
     "data": {
      "text/plain": [
       "([1, 2, 67, 134],\n",
       " [1, 491],\n",
       " [1, 2, 211, 422],\n",
       " [1, 2, 3, 6, 167, 334, 501, 1002])"
      ]
     },
     "execution_count": 18,
     "metadata": {
     },
     "output_type": "execute_result"
    }
   ],
   "source": [
    "# Lista de divisores para cada número\n",
    "divisores_134 = divisors(134)\n",
    "divisores_491 = divisors(491)\n",
    "divisores_422 = divisors(422)\n",
    "divisores_1002 = divisors(1002)\n",
    "\n",
    "divisores_134, divisores_491, divisores_422, divisores_1002\n"
   ]
  },
  {
   "cell_type": "code",
   "execution_count": 19,
   "metadata": {
    "collapsed": false
   },
   "outputs": [
    {
     "data": {
      "text/plain": [
       "(False, True, False, False)"
      ]
     },
     "execution_count": 19,
     "metadata": {
     },
     "output_type": "execute_result"
    }
   ],
   "source": [
    "# Verificación de primos\n",
    "es_primo_134 = is_prime(134)\n",
    "es_primo_491 = is_prime(491)\n",
    "es_primo_422 = is_prime(422)\n",
    "es_primo_1002 = is_prime(1002)\n",
    "\n",
    "es_primo_134, es_primo_491, es_primo_422, es_primo_1002\n"
   ]
  },
  {
   "cell_type": "code",
   "execution_count": 20,
   "metadata": {
    "collapsed": false
   },
   "outputs": [
    {
     "data": {
      "text/plain": [
       "(1, 10, 2, 20, 3, 306)"
      ]
     },
     "execution_count": 20,
     "metadata": {
     },
     "output_type": "execute_result"
    }
   ],
   "source": [
    "# Pares de números\n",
    "par1 = (2, 5)\n",
    "par2 = (4, 10)\n",
    "par3 = (18, 51)\n",
    "\n",
    "# Máximo común divisor (mcd) y mínimo común múltiple (mcm)\n",
    "mcd_2_5 = gcd(par1)\n",
    "mcm_2_5 = lcm(par1)\n",
    "\n",
    "mcd_4_10 = gcd(par2)\n",
    "mcm_4_10 = lcm(par2)\n",
    "\n",
    "mcd_18_51 = gcd(par3)\n",
    "mcm_18_51 = lcm(par3)\n",
    "\n",
    "mcd_2_5, mcm_2_5, mcd_4_10, mcm_4_10, mcd_18_51, mcm_18_51"
   ]
  },
  {
   "cell_type": "code",
   "execution_count": 0,
   "metadata": {
    "collapsed": false
   },
   "outputs": [
   ],
   "source": [
   ]
  },
  {
   "cell_type": "code",
   "execution_count": 0,
   "metadata": {
    "collapsed": false
   },
   "outputs": [
   ],
   "source": [
   ]
  }
 ],
 "metadata": {
  "kernelspec": {
   "argv": [
    "sage-10.2",
    "--python",
    "-m",
    "sage.repl.ipython_kernel",
    "--matplotlib=inline",
    "-f",
    "{connection_file}"
   ],
   "display_name": "SageMath 10.2",
   "env": {
   },
   "language": "sagemath",
   "metadata": {
    "cocalc": {
     "description": "Open-source mathematical software system",
     "priority": 2,
     "url": "https://www.sagemath.org/"
    }
   },
   "name": "sage-10.2",
   "resource_dir": "/ext/jupyter/kernels/sage-10.2"
  },
  "language_info": {
   "codemirror_mode": {
    "name": "ipython",
    "version": 3
   },
   "file_extension": ".py",
   "mimetype": "text/x-python",
   "name": "python",
   "nbconvert_exporter": "python",
   "pygments_lexer": "ipython3",
   "version": "3.11.1"
  }
 },
 "nbformat": 4,
 "nbformat_minor": 4
}